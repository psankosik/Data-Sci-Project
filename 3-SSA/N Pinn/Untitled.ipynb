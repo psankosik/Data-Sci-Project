{
 "cells": [
  {
   "cell_type": "code",
   "execution_count": 1,
   "metadata": {},
   "outputs": [],
   "source": [
    "import pandas as pd\n",
    "import numpy as np\n",
    "from numpy import pi\n",
    "import matplotlib.pyplot as plt\n",
    "import seaborn as sns"
   ]
  },
  {
   "cell_type": "code",
   "execution_count": 12,
   "metadata": {},
   "outputs": [],
   "source": [
    "df = pd.read_csv('../DATA/P100254-1 (G43L) CDU-HGO.CSV')"
   ]
  },
  {
   "cell_type": "code",
   "execution_count": 14,
   "metadata": {},
   "outputs": [],
   "source": [
    "df = df[['Sent Time','UT measurement (mm)']]\n",
    "df['Sent Time']=df.apply(lambda x:x.split(' ')[0])\n",
    "df['Sent Time']=pd.to_datetime(df['Sent Time'])\n",
    "df=df[df['Sent Time']].dt.y"
   ]
  },
  {
   "cell_type": "code",
   "execution_count": 3,
   "metadata": {},
   "outputs": [],
   "source": [
    "def findMean(df):\n",
    "    edit = pd.DataFrame(columns=df.columns)\n",
    "    s = set()\n",
    "    for i in range(len(df)):\n",
    "        if df['Sent Time'][i] not in s:\n",
    "            s.add(df['Sent Time'][i])\n",
    "            edit=edit.append(df.loc[i], ignore_index=True)\n",
    "        else:\n",
    "            edit.drop(len(edit)-1,axis=0,inplace=True)\n",
    "            edit=edit.append(df.loc[i-1:i].mean(), ignore_index=True)\n",
    "            edit['Sent Time'][len(edit)-1]=df['Sent Time'][i]\n",
    "    return edit"
   ]
  }
 ],
 "metadata": {
  "kernelspec": {
   "display_name": "Python 3",
   "language": "python",
   "name": "python3"
  },
  "language_info": {
   "codemirror_mode": {
    "name": "ipython",
    "version": 3
   },
   "file_extension": ".py",
   "mimetype": "text/x-python",
   "name": "python",
   "nbconvert_exporter": "python",
   "pygments_lexer": "ipython3",
   "version": "3.7.0"
  }
 },
 "nbformat": 4,
 "nbformat_minor": 2
}
